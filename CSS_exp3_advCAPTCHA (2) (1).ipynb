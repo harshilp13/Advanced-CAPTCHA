{
 "cells": [
  {
   "cell_type": "code",
   "execution_count": 1,
   "metadata": {},
   "outputs": [
    {
     "name": "stdout",
     "output_type": "stream",
     "text": [
      "Requirement already satisfied: captcha in c:\\users\\harshil\\anaconda3\\lib\\site-packages (0.3)\n",
      "Requirement already satisfied: Pillow in c:\\users\\harshil\\anaconda3\\lib\\site-packages (from captcha) (7.0.0)\n"
     ]
    }
   ],
   "source": [
    "!pip install captcha"
   ]
  },
  {
   "cell_type": "code",
   "execution_count": 3,
   "metadata": {},
   "outputs": [],
   "source": [
    "from captcha.image import ImageCaptcha  \n",
    "import numpy as np\n",
    "import matplotlib.pyplot as plt\n",
    "from PIL import Image #for using imshow\n",
    "import random\n",
    "import os"
   ]
  },
  {
   "cell_type": "code",
   "execution_count": 4,
   "metadata": {},
   "outputs": [],
   "source": [
    "number = ['0','1','2','3','4','5','6','7','8','9']\n",
    "MAX_CAPTCHA = 4 #length of captcha is fixed to 4 initially\n",
    "WIDTH=100\n",
    "HEIGHT=30"
   ]
  },
  {
   "cell_type": "code",
   "execution_count": 5,
   "metadata": {},
   "outputs": [],
   "source": [
    "image = ImageCaptcha(width=WIDTH, height=HEIGHT, font_sizes=[30])"
   ]
  },
  {
   "cell_type": "code",
   "execution_count": 6,
   "metadata": {},
   "outputs": [],
   "source": [
    "captcha_text = []\n",
    "for i in range(MAX_CAPTCHA):\n",
    "    c = random.choice(number)\n",
    "    captcha_text.append(c)\n",
    "captcha_text = ''.join(captcha_text)"
   ]
  },
  {
   "cell_type": "code",
   "execution_count": 7,
   "metadata": {},
   "outputs": [],
   "source": [
    "captcha = image.generate(captcha_text)\n",
    "captcha_image = Image.open(captcha)\n",
    "captcha_image = np.array(captcha_image) #numpy.array(object, dtype=None, *, copy=True, order='K', subok=False, ndmin=0)"
   ]
  },
  {
   "cell_type": "code",
   "execution_count": 9,
   "metadata": {},
   "outputs": [
    {
     "data": {
      "image/png": "[encoded data removed]",
      "text/plain": [
       "<Figure size 432x288 with 1 Axes>"
      ]
     },
     "metadata": {
      "needs_background": "light"
     },
     "output_type": "display_data"
    },
    {
     "name": "stdout",
     "output_type": "stream",
     "text": [
      "Enter Captcha : 4545\n",
      "ROBOT\n"
     ]
    }
   ],
   "source": [
    "image.write(captcha_text,'img.png') \n",
    "plt.imshow(captcha_image)\n",
    "plt.show() \n",
    "n = input(\"Enter Captcha : \")\n",
    "if n==captcha_text:\n",
    "\tprint(\"HUMAN\")\n",
    "else:\n",
    "\tprint(\"ROBOT\")"
   ]
  },
  {
   "cell_type": "code",
   "execution_count": null,
   "metadata": {},
   "outputs": [],
   "source": []
  }
 ],
 "metadata": {
  "kernelspec": {
   "display_name": "Python 3",
   "language": "python",
   "name": "python3"
  },
  "language_info": {
   "codemirror_mode": {
    "name": "ipython",
    "version": 3
   },
   "file_extension": ".py",
   "mimetype": "text/x-python",
   "name": "python",
   "nbconvert_exporter": "python",
   "pygments_lexer": "ipython3",
   "version": "3.7.6"
  }
 },
 "nbformat": 4,
 "nbformat_minor": 4
}
